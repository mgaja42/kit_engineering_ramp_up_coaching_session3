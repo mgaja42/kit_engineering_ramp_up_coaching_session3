{
  "cells": [
    {
      "cell_type": "markdown",
      "source": [
        "# Water Pump failure"
      ],
      "metadata": {
        "id": "eNFbeVRP1CqE"
      },
      "id": "eNFbeVRP1CqE"
    },
    {
      "cell_type": "markdown",
      "id": "parental-virus",
      "metadata": {
        "papermill": {
          "duration": 0.030296,
          "end_time": "2021-06-25T13:36:53.519693",
          "exception": false,
          "start_time": "2021-06-25T13:36:53.489397",
          "status": "completed"
        },
        "tags": [],
        "id": "parental-virus"
      },
      "source": [
        "In this Notebook we will analyse data from a water pump which experienced frequent failures in the period spring/summer 2018.\n",
        "\n",
        "As input we have time series data from 52 sensors which measure different physical properties of the system (like temperature and pressure). We will try to extract the different working modes of the pump and highlight possible early warning signals of breakage.\n",
        "\n",
        "As always, we will start with some (brief) exploratory analysis, with the aim of examining missing or redundant data."
      ]
    },
    {
      "cell_type": "code",
      "execution_count": null,
      "id": "established-symphony",
      "metadata": {
        "_cell_guid": "b1076dfc-b9ad-4769-8c92-a6c4dae69d19",
        "_uuid": "8f2839f25d086af736a60e9eeb907d3b93b6e0e5",
        "execution": {
          "iopub.execute_input": "2021-06-25T13:36:53.591522Z",
          "iopub.status.busy": "2021-06-25T13:36:53.590713Z",
          "iopub.status.idle": "2021-06-25T13:36:53.607639Z",
          "shell.execute_reply": "2021-06-25T13:36:53.606952Z",
          "shell.execute_reply.started": "2021-06-25T12:53:25.985312Z"
        },
        "papermill": {
          "duration": 0.056098,
          "end_time": "2021-06-25T13:36:53.607815",
          "exception": false,
          "start_time": "2021-06-25T13:36:53.551717",
          "status": "completed"
        },
        "tags": [],
        "id": "established-symphony"
      },
      "outputs": [],
      "source": [
        "\n",
        "import numpy as np \n",
        "import pandas as pd \n",
        "import matplotlib.pyplot as plt\n",
        "import os"
      ]
    },
    {
      "cell_type": "code",
      "source": [
        "for path, directories, files in os.walk('sensor_data/'):\n",
        "    for filename in files:\n",
        "        print(os.path.join(path, filename))"
      ],
      "metadata": {
        "id": "jLpXQAmU51rV"
      },
      "id": "jLpXQAmU51rV",
      "execution_count": null,
      "outputs": []
    },
    {
      "cell_type": "markdown",
      "id": "equivalent-artist",
      "metadata": {
        "papermill": {
          "duration": 0.031601,
          "end_time": "2021-06-25T13:36:53.669684",
          "exception": false,
          "start_time": "2021-06-25T13:36:53.638083",
          "status": "completed"
        },
        "tags": [],
        "id": "equivalent-artist"
      },
      "source": [
        "Load the dataset."
      ]
    },
    {
      "cell_type": "code",
      "execution_count": null,
      "id": "assumed-romance",
      "metadata": {
        "execution": {
          "iopub.execute_input": "2021-06-25T13:36:53.735739Z",
          "iopub.status.busy": "2021-06-25T13:36:53.734976Z",
          "iopub.status.idle": "2021-06-25T13:36:57.436200Z",
          "shell.execute_reply": "2021-06-25T13:36:57.434789Z",
          "shell.execute_reply.started": "2021-06-25T12:53:38.833948Z"
        },
        "papermill": {
          "duration": 3.735903,
          "end_time": "2021-06-25T13:36:57.436423",
          "exception": false,
          "start_time": "2021-06-25T13:36:53.700520",
          "status": "completed"
        },
        "tags": [],
        "id": "assumed-romance"
      },
      "outputs": [],
      "source": [
        "data =  pd.read_csv(\"sensor_data/sensor.csv\")"
      ]
    },
    {
      "cell_type": "markdown",
      "id": "southeast-stretch",
      "metadata": {
        "papermill": {
          "duration": 0.029586,
          "end_time": "2021-06-25T13:36:57.495550",
          "exception": false,
          "start_time": "2021-06-25T13:36:57.465964",
          "status": "completed"
        },
        "tags": [],
        "id": "southeast-stretch"
      },
      "source": [
        "# Data exploration and cleaning"
      ]
    },
    {
      "cell_type": "markdown",
      "source": [
        "## Exploration"
      ],
      "metadata": {
        "id": "mWMfaJeSVfcF"
      },
      "id": "mWMfaJeSVfcF"
    },
    {
      "cell_type": "markdown",
      "id": "informative-culture",
      "metadata": {
        "papermill": {
          "duration": 0.029308,
          "end_time": "2021-06-25T13:36:57.554550",
          "exception": false,
          "start_time": "2021-06-25T13:36:57.525242",
          "status": "completed"
        },
        "tags": [],
        "id": "informative-culture"
      },
      "source": [
        "Let's have a first look at the data"
      ]
    },
    {
      "cell_type": "code",
      "execution_count": null,
      "id": "further-planning",
      "metadata": {
        "execution": {
          "iopub.execute_input": "2021-06-25T13:36:57.633957Z",
          "iopub.status.busy": "2021-06-25T13:36:57.633288Z",
          "iopub.status.idle": "2021-06-25T13:36:57.666618Z",
          "shell.execute_reply": "2021-06-25T13:36:57.665969Z",
          "shell.execute_reply.started": "2021-06-25T12:53:46.800576Z"
        },
        "papermill": {
          "duration": 0.081981,
          "end_time": "2021-06-25T13:36:57.666840",
          "exception": false,
          "start_time": "2021-06-25T13:36:57.584859",
          "status": "completed"
        },
        "tags": [],
        "id": "further-planning"
      },
      "outputs": [],
      "source": [
        "data.head()"
      ]
    },
    {
      "cell_type": "markdown",
      "source": [
        "**Observations:**\n",
        "\n",
        "\n",
        "---\n",
        "\n",
        "\n",
        "\n",
        "*   Data has a timestamp column, so its probably a timeseries data\n",
        "*   Sensors do not have names\n",
        "*   Sensor values appears to have different ranges\n",
        "*   There appears to be a redundant column named 'Unnamed: 0'\n",
        "\n",
        "Lets look further into the data, this time looking more closely to the type of columns and their statistics\n",
        "\n"
      ],
      "metadata": {
        "id": "nlHfNpt07D3p"
      },
      "id": "nlHfNpt07D3p"
    },
    {
      "cell_type": "markdown",
      "source": [
        "***Task 1:***\n",
        "\n",
        "Look into the different columns of the data and identify if there are any defective sensors. "
      ],
      "metadata": {
        "id": "tMeqse_Q2yLc"
      },
      "id": "tMeqse_Q2yLc"
    },
    {
      "cell_type": "code",
      "source": [
        "#################\n",
        "# Your solution #\n",
        "#################"
      ],
      "metadata": {
        "id": "U0DofC6l8hKs"
      },
      "id": "U0DofC6l8hKs",
      "execution_count": null,
      "outputs": []
    },
    {
      "cell_type": "code",
      "source": [
        "data.describe()"
      ],
      "metadata": {
        "id": "JJRTS__R8EoK"
      },
      "id": "JJRTS__R8EoK",
      "execution_count": null,
      "outputs": []
    },
    {
      "cell_type": "markdown",
      "source": [
        "**Observations:**\n",
        "\n",
        "\n",
        "---\n",
        "\n",
        "\n",
        "\n",
        "*   Sensors have different ranges, eg `sensor_00` has mean 2.3 and variance 0.4 while `sensor_04` has mean 590 and variance 144.\n",
        "*   There are no negative values"
      ],
      "metadata": {
        "id": "ZU128dIL9koH"
      },
      "id": "ZU128dIL9koH"
    },
    {
      "cell_type": "markdown",
      "id": "behavioral-raise",
      "metadata": {
        "papermill": {
          "duration": 0.031265,
          "end_time": "2021-06-25T13:36:57.728952",
          "exception": false,
          "start_time": "2021-06-25T13:36:57.697687",
          "status": "completed"
        },
        "tags": [],
        "id": "behavioral-raise"
      },
      "source": [
        "***Task 2:***\n",
        "\n",
        "Time of each event is recorded in the timestamp column. Since the format is string, create a new columns where time is registered as pandas timestamp object.\n",
        "\n",
        "Also drop the `Unnamed: 0` column since it is just a row count."
      ]
    },
    {
      "cell_type": "code",
      "execution_count": null,
      "id": "molecular-palestinian",
      "metadata": {
        "execution": {
          "iopub.execute_input": "2021-06-25T13:36:57.878272Z",
          "iopub.status.busy": "2021-06-25T13:36:57.877131Z",
          "iopub.status.idle": "2021-06-25T13:36:57.953418Z",
          "shell.execute_reply": "2021-06-25T13:36:57.952728Z",
          "shell.execute_reply.started": "2021-06-25T12:54:47.521103Z"
        },
        "papermill": {
          "duration": 0.193055,
          "end_time": "2021-06-25T13:36:57.953585",
          "exception": false,
          "start_time": "2021-06-25T13:36:57.760530",
          "status": "completed"
        },
        "tags": [],
        "id": "molecular-palestinian"
      },
      "outputs": [],
      "source": [
        "#################\n",
        "# Your solution #\n",
        "#################"
      ]
    },
    {
      "cell_type": "markdown",
      "source": [
        "## Cleaning"
      ],
      "metadata": {
        "id": "GYW-52PwVn_N"
      },
      "id": "GYW-52PwVn_N"
    },
    {
      "cell_type": "markdown",
      "id": "amateur-malaysia",
      "metadata": {
        "papermill": {
          "duration": 0.035055,
          "end_time": "2021-06-25T13:37:00.182621",
          "exception": false,
          "start_time": "2021-06-25T13:37:00.147566",
          "status": "completed"
        },
        "tags": [],
        "id": "amateur-malaysia"
      },
      "source": [
        "***Task 3:***\n",
        "\n",
        "For each sensor, identify the percentage of missing data. Also check if there are any duplicated rows. Finally, remove the sensors having more than 3% of missing values."
      ]
    },
    {
      "cell_type": "code",
      "execution_count": null,
      "id": "alien-luxembourg",
      "metadata": {
        "execution": {
          "iopub.execute_input": "2021-06-25T13:37:00.260523Z",
          "iopub.status.busy": "2021-06-25T13:37:00.259340Z",
          "iopub.status.idle": "2021-06-25T13:37:00.330085Z",
          "shell.execute_reply": "2021-06-25T13:37:00.330636Z",
          "shell.execute_reply.started": "2021-06-25T13:01:42.826815Z"
        },
        "papermill": {
          "duration": 0.11321,
          "end_time": "2021-06-25T13:37:00.330842",
          "exception": false,
          "start_time": "2021-06-25T13:37:00.217632",
          "status": "completed"
        },
        "tags": [],
        "id": "alien-luxembourg"
      },
      "outputs": [],
      "source": [
        "#################\n",
        "# Your solution #\n",
        "#################"
      ]
    },
    {
      "cell_type": "markdown",
      "source": [
        "Lets now look at the label column. What are the labels and how are they distributed?"
      ],
      "metadata": {
        "id": "mQaZvCAbSVFf"
      },
      "id": "mQaZvCAbSVFf"
    },
    {
      "cell_type": "code",
      "source": [
        "data['machine_status'].value_counts()"
      ],
      "metadata": {
        "id": "cv6r2vxSSgOg"
      },
      "id": "cv6r2vxSSgOg",
      "execution_count": null,
      "outputs": []
    },
    {
      "cell_type": "markdown",
      "source": [
        "**Observations:**\n",
        "\n",
        "\n",
        "---\n",
        "\n",
        "\n",
        "\n",
        "*   There are three working status, but with very few observations in the `BROKEN` category"
      ],
      "metadata": {
        "id": "usoiYfZgSu9v"
      },
      "id": "usoiYfZgSu9v"
    },
    {
      "cell_type": "code",
      "source": [
        "data.head()"
      ],
      "metadata": {
        "id": "yQPdDjxd5wJN"
      },
      "id": "yQPdDjxd5wJN",
      "execution_count": null,
      "outputs": []
    },
    {
      "cell_type": "markdown",
      "source": [
        "## Visualizations"
      ],
      "metadata": {
        "id": "ldT0syaQ34_-"
      },
      "id": "ldT0syaQ34_-"
    },
    {
      "cell_type": "markdown",
      "source": [
        "***Task 4:***\n",
        "\n",
        "Visualize the distribution of the individual sensor values with a histogram plot. There will be 48 sensors left at this stage, you can use a layout of (10, 5) ie, 10 rows each of 5 sensor's histogram plot. Make sure to have a large enough figure size."
      ],
      "metadata": {
        "id": "WrUbMEwQRXEe"
      },
      "id": "WrUbMEwQRXEe"
    },
    {
      "cell_type": "code",
      "source": [
        "#################\n",
        "# Your solution #\n",
        "#################"
      ],
      "metadata": {
        "id": "U4Acun9eLqZQ"
      },
      "id": "U4Acun9eLqZQ",
      "execution_count": null,
      "outputs": []
    },
    {
      "cell_type": "markdown",
      "source": [
        "**Observations:**\n",
        "\n",
        "\n",
        "---\n",
        "\n",
        "\n",
        "\n",
        "*   Most of the sensor values have a unimodal distribution, but there are also some multimodal distributed values."
      ],
      "metadata": {
        "id": "_LFjRS-ZR0uq"
      },
      "id": "_LFjRS-ZR0uq"
    },
    {
      "cell_type": "markdown",
      "id": "polished-hughes",
      "metadata": {
        "papermill": {
          "duration": 0.032309,
          "end_time": "2021-06-25T13:36:58.017857",
          "exception": false,
          "start_time": "2021-06-25T13:36:57.985548",
          "status": "completed"
        },
        "tags": [],
        "id": "polished-hughes"
      },
      "source": [
        "Now we can plot the data along time and quickly analyse some of the patterns that appears when the machine is in different `machine_status`."
      ]
    },
    {
      "cell_type": "code",
      "execution_count": null,
      "id": "radio-armor",
      "metadata": {
        "execution": {
          "iopub.execute_input": "2021-06-25T13:36:58.159278Z",
          "iopub.status.busy": "2021-06-25T13:36:58.125210Z",
          "iopub.status.idle": "2021-06-25T13:36:59.746270Z",
          "shell.execute_reply": "2021-06-25T13:36:59.745629Z",
          "shell.execute_reply.started": "2021-06-25T12:56:32.848574Z"
        },
        "papermill": {
          "duration": 1.697925,
          "end_time": "2021-06-25T13:36:59.746419",
          "exception": false,
          "start_time": "2021-06-25T13:36:58.048494",
          "status": "completed"
        },
        "tags": [],
        "id": "radio-armor"
      },
      "outputs": [],
      "source": [
        "# Extract the readings from the BROKEN and RECOVERING states of the pump\n",
        "broken = data[data['machine_status']=='BROKEN']\n",
        "recovering = data[data['machine_status']=='RECOVERING']\n",
        "\n",
        "sensors_to_plot = data.columns[:5]\n",
        "\n",
        "# Plot time series for each sensor with BROKEN state marked with X in red color\n",
        "for sensor_name in sensors_to_plot:\n",
        "    plt.figure(figsize=(18, 4))\n",
        "    # Plot time series for each sensor with RECOVERING state marked with 'O' in orange color\n",
        "    plt.plot(recovering['datetime'], recovering[sensor_name], \n",
        "             linestyle='none', marker='o', color='orange', markersize=8, \n",
        "             label='recovering')\n",
        "    # Plot time series for each sensor with BROKEN state marked with 'X' in red color\n",
        "    plt.plot(broken['datetime'], broken[sensor_name], linestyle='none', \n",
        "             marker='X', color='red', markersize=12, label='broken')\n",
        "    # Plot time series for each sensor (all status) in green line\n",
        "    plt.plot(data['datetime'], data[sensor_name], color='green', \n",
        "             alpha=0.5, label='working')\n",
        "    plt.xlabel(\"Datetime\")\n",
        "    plt.ylabel(\"Value\")\n",
        "    plt.title(sensor_name)\n",
        "    plt.legend()\n",
        "    plt.show()"
      ]
    },
    {
      "cell_type": "markdown",
      "source": [
        "**Observations:**\n",
        "\n",
        "---\n",
        "\n",
        "*   Although some of the sensors have anomalous behavious before the machine changes to `BROKEN` status, it would be difficult to write the rules for identifying potential failure\n",
        "\n"
      ],
      "metadata": {
        "id": "N21rOiJM-LR_"
      },
      "id": "N21rOiJM-LR_"
    },
    {
      "cell_type": "markdown",
      "id": "coastal-basis",
      "metadata": {
        "papermill": {
          "duration": 0.0356,
          "end_time": "2021-06-25T13:37:01.792155",
          "exception": false,
          "start_time": "2021-06-25T13:37:01.756555",
          "status": "completed"
        },
        "tags": [],
        "id": "coastal-basis"
      },
      "source": [
        "# K-means clustering and operating modes"
      ]
    },
    {
      "cell_type": "markdown",
      "id": "dense-turtle",
      "metadata": {
        "papermill": {
          "duration": 0.033834,
          "end_time": "2021-06-25T13:37:01.860486",
          "exception": false,
          "start_time": "2021-06-25T13:37:01.826652",
          "status": "completed"
        },
        "tags": [],
        "id": "dense-turtle"
      },
      "source": [
        "Since we do not have enough data for supervised learning, we will explore the different working regimes of the pump with unsupervised learning. Let us try using Kmeans clustering"
      ]
    },
    {
      "cell_type": "code",
      "execution_count": null,
      "id": "smoking-apollo",
      "metadata": {
        "execution": {
          "iopub.execute_input": "2021-06-25T13:37:01.934588Z",
          "iopub.status.busy": "2021-06-25T13:37:01.933911Z",
          "iopub.status.idle": "2021-06-25T13:37:03.267968Z",
          "shell.execute_reply": "2021-06-25T13:37:03.267351Z",
          "shell.execute_reply.started": "2021-06-25T13:03:23.890775Z"
        },
        "papermill": {
          "duration": 1.373841,
          "end_time": "2021-06-25T13:37:03.268127",
          "exception": false,
          "start_time": "2021-06-25T13:37:01.894286",
          "status": "completed"
        },
        "tags": [],
        "id": "smoking-apollo"
      },
      "outputs": [],
      "source": [
        "from sklearn.cluster import KMeans"
      ]
    },
    {
      "cell_type": "markdown",
      "id": "abandoned-longer",
      "metadata": {
        "papermill": {
          "duration": 0.03467,
          "end_time": "2021-06-25T13:37:03.337265",
          "exception": false,
          "start_time": "2021-06-25T13:37:03.302595",
          "status": "completed"
        },
        "tags": [],
        "id": "abandoned-longer"
      },
      "source": [
        "***Task 5:***\n",
        "\n",
        "Create `X_train`, a new dataframe which comprises only of sensor data (no labels, no timestamps). \n",
        "\n",
        "Then, rescale the sensor data so that they lay in a similar range. If we subtract the minimum across the column and divide by the maximum, all the values will be between 0 and 1.\n",
        "\n",
        "Finally, since there are still sensors with missing data, fill these voids. Think about how you would want to fill the missing values of a time series data."
      ]
    },
    {
      "cell_type": "code",
      "execution_count": null,
      "id": "raising-geometry",
      "metadata": {
        "execution": {
          "iopub.execute_input": "2021-06-25T13:37:03.440124Z",
          "iopub.status.busy": "2021-06-25T13:37:03.439399Z",
          "iopub.status.idle": "2021-06-25T13:37:03.532193Z",
          "shell.execute_reply": "2021-06-25T13:37:03.531504Z",
          "shell.execute_reply.started": "2021-06-25T12:45:37.039449Z"
        },
        "papermill": {
          "duration": 0.160661,
          "end_time": "2021-06-25T13:37:03.532356",
          "exception": false,
          "start_time": "2021-06-25T13:37:03.371695",
          "status": "completed"
        },
        "tags": [],
        "id": "raising-geometry"
      },
      "outputs": [],
      "source": [
        "#################\n",
        "# Your solution #\n",
        "#################"
      ]
    },
    {
      "cell_type": "markdown",
      "id": "binary-blank",
      "metadata": {
        "papermill": {
          "duration": 0.035535,
          "end_time": "2021-06-25T13:37:03.845254",
          "exception": false,
          "start_time": "2021-06-25T13:37:03.809719",
          "status": "completed"
        },
        "tags": [],
        "id": "binary-blank"
      },
      "source": [
        "**Elbow method**"
      ]
    },
    {
      "cell_type": "markdown",
      "id": "found-attack",
      "metadata": {
        "papermill": {
          "duration": 0.036355,
          "end_time": "2021-06-25T13:37:03.918178",
          "exception": false,
          "start_time": "2021-06-25T13:37:03.881823",
          "status": "completed"
        },
        "tags": [],
        "id": "found-attack"
      },
      "source": [
        "The elbow method is a heuristic method to decide how many clusters to use for kmeans clustering. "
      ]
    },
    {
      "cell_type": "markdown",
      "source": [
        "***Task 6:***\n",
        "\n",
        "Calculate the inertia of the KMeans clustering method for clusters ranging from 1 to 15 and plot the results. What is an optimum number of clusters for this data?"
      ],
      "metadata": {
        "id": "VwY965g0D46r"
      },
      "id": "VwY965g0D46r"
    },
    {
      "cell_type": "code",
      "execution_count": null,
      "id": "certified-detective",
      "metadata": {
        "execution": {
          "iopub.execute_input": "2021-06-25T13:37:03.993418Z",
          "iopub.status.busy": "2021-06-25T13:37:03.992285Z",
          "iopub.status.idle": "2021-06-25T13:38:59.597734Z",
          "shell.execute_reply": "2021-06-25T13:38:59.596996Z",
          "shell.execute_reply.started": "2021-06-25T12:45:37.212574Z"
        },
        "papermill": {
          "duration": 115.644517,
          "end_time": "2021-06-25T13:38:59.597905",
          "exception": false,
          "start_time": "2021-06-25T13:37:03.953388",
          "status": "completed"
        },
        "tags": [],
        "id": "certified-detective"
      },
      "outputs": [],
      "source": [
        "#################\n",
        "# Your solution #\n",
        "#################"
      ]
    },
    {
      "cell_type": "markdown",
      "source": [
        "Let us now fit the model with 5 clusters to the data."
      ],
      "metadata": {
        "id": "yBdlFK1yFRA-"
      },
      "id": "yBdlFK1yFRA-"
    },
    {
      "cell_type": "code",
      "execution_count": null,
      "id": "acknowledged-pride",
      "metadata": {
        "execution": {
          "iopub.execute_input": "2021-06-25T13:38:59.977923Z",
          "iopub.status.busy": "2021-06-25T13:38:59.977045Z",
          "iopub.status.idle": "2021-06-25T13:39:03.877611Z",
          "shell.execute_reply": "2021-06-25T13:39:03.876669Z",
          "shell.execute_reply.started": "2021-06-25T13:12:42.205438Z"
        },
        "papermill": {
          "duration": 3.94292,
          "end_time": "2021-06-25T13:39:03.877755",
          "exception": false,
          "start_time": "2021-06-25T13:38:59.934835",
          "status": "completed"
        },
        "tags": [],
        "id": "acknowledged-pride"
      },
      "outputs": [],
      "source": [
        "kmeans = KMeans(n_clusters=5, random_state=42)\n",
        "kmeans.fit(X_train)\n",
        "labels = kmeans.predict(X_train)\n",
        "\n",
        "data['cluster'] = labels"
      ]
    },
    {
      "cell_type": "markdown",
      "source": [
        "We can also see the number of points assigned to each cluster"
      ],
      "metadata": {
        "id": "IvRK1OgNGrdx"
      },
      "id": "IvRK1OgNGrdx"
    },
    {
      "cell_type": "code",
      "source": [
        "unique_elements, counts_elements = np.unique(labels, return_counts=True)\n",
        "for n in range(5):\n",
        "  print(f\"Cluster {unique_elements[n]} \\n  Points {counts_elements[n]}\")"
      ],
      "metadata": {
        "id": "EQLPRx8NFp-Y"
      },
      "id": "EQLPRx8NFp-Y",
      "execution_count": null,
      "outputs": []
    },
    {
      "cell_type": "markdown",
      "source": [
        "Assigning different colours to different clusters and visualizing the sensor data belonging to the clusters."
      ],
      "metadata": {
        "id": "ffDycpeHLPkp"
      },
      "id": "ffDycpeHLPkp"
    },
    {
      "cell_type": "code",
      "execution_count": null,
      "id": "devoted-throw",
      "metadata": {
        "execution": {
          "iopub.execute_input": "2021-06-25T13:39:03.981373Z",
          "iopub.status.busy": "2021-06-25T13:39:03.965796Z",
          "iopub.status.idle": "2021-06-25T13:40:08.810761Z",
          "shell.execute_reply": "2021-06-25T13:40:08.811294Z",
          "shell.execute_reply.started": "2021-06-25T12:47:08.126242Z"
        },
        "papermill": {
          "duration": 64.899168,
          "end_time": "2021-06-25T13:40:08.811478",
          "exception": false,
          "start_time": "2021-06-25T13:39:03.912310",
          "status": "completed"
        },
        "tags": [],
        "id": "devoted-throw"
      },
      "outputs": [],
      "source": [
        "colors = ['limegreen', 'orange', 'yellow', 'red', 'cyan']\n",
        "colors_plot = [colors[i] for i in data['cluster'].values]\n",
        "\n",
        "sensors_to_plot = ['sensor_01']\n",
        "for sensor_name in sensors_to_plot:\n",
        "    plt.figure(figsize=(18,3))\n",
        "    lower_limit = 0.5*data[sensor_name].max() \n",
        "    upper_limit = 0.9*data[sensor_name].max()\n",
        "\n",
        "    plt.plot(data['datetime'], data[sensor_name], color='blue', \n",
        "             label='sensor data')\n",
        "    plt.vlines(data['datetime'], lower_limit, upper_limit, \n",
        "               color=colors_plot, alpha=0.01)\n",
        "    plt.title(sensor_name)\n",
        "    plt.legend()\n",
        "    plt.show()"
      ]
    },
    {
      "cell_type": "markdown",
      "source": [
        "In order to get an idea if the learned clusters has captured the working modes of the machine. Find out which"
      ],
      "metadata": {
        "id": "CjW4k7BSM241"
      },
      "id": "CjW4k7BSM241"
    },
    {
      "cell_type": "code",
      "source": [
        "broken = data[data['machine_status']=='BROKEN']\n",
        "recovering = data[data['machine_status']=='RECOVERING']\n",
        "normal = data[data['machine_status']=='NORMAL']\n",
        "\n",
        "print(f\"Broken: \\n{broken['cluster'].value_counts()}\\n\")\n",
        "print(f\"Recovering: \\n{recovering['cluster'].value_counts()}\\n\")\n",
        "print(f\"Normal: \\n{normal['cluster'].value_counts()}\\n\")"
      ],
      "metadata": {
        "id": "eWzpgXx1NiIQ"
      },
      "id": "eWzpgXx1NiIQ",
      "execution_count": null,
      "outputs": []
    },
    {
      "cell_type": "markdown",
      "source": [
        "**Observations:**\n",
        "\n",
        "---\n",
        "\n",
        "*   The RECOVERING mode is captured well as one cluster\n",
        "*   Since the BROKEN mode has too little data points, the cluster distribution does not provide more information\n",
        "*   The NORMAL mode appears to be spread in the rest of 4 clusters"
      ],
      "metadata": {
        "id": "xf2uAN0JPS91"
      },
      "id": "xf2uAN0JPS91"
    },
    {
      "cell_type": "markdown",
      "id": "specified-seeker",
      "metadata": {
        "papermill": {
          "duration": 0.036064,
          "end_time": "2021-06-25T13:40:08.883331",
          "exception": false,
          "start_time": "2021-06-25T13:40:08.847267",
          "status": "completed"
        },
        "tags": [],
        "id": "specified-seeker"
      },
      "source": [
        "## Cluster visualisation"
      ]
    },
    {
      "cell_type": "markdown",
      "id": "confident-network",
      "metadata": {
        "papermill": {
          "duration": 0.035742,
          "end_time": "2021-06-25T13:40:08.955400",
          "exception": false,
          "start_time": "2021-06-25T13:40:08.919658",
          "status": "completed"
        },
        "tags": [],
        "id": "confident-network"
      },
      "source": [
        "***Task 7:***\n",
        "\n",
        "We can use t-SNE to project the clusters onto 2d and plot them, to have a rough idea of their geometrical relationships.\n",
        "Select every 500th data point from the dataset and plot the t-SNE embeddings as a scatter plot with colour coding of the clusters"
      ]
    },
    {
      "cell_type": "code",
      "execution_count": null,
      "id": "sexual-triumph",
      "metadata": {
        "execution": {
          "iopub.execute_input": "2021-06-25T13:40:09.044577Z",
          "iopub.status.busy": "2021-06-25T13:40:09.043619Z",
          "iopub.status.idle": "2021-06-25T13:40:10.989054Z",
          "shell.execute_reply": "2021-06-25T13:40:10.988216Z",
          "shell.execute_reply.started": "2021-06-25T13:16:36.588729Z"
        },
        "papermill": {
          "duration": 1.992255,
          "end_time": "2021-06-25T13:40:10.989245",
          "exception": false,
          "start_time": "2021-06-25T13:40:08.996990",
          "status": "completed"
        },
        "tags": [],
        "id": "sexual-triumph"
      },
      "outputs": [],
      "source": [
        "from sklearn.manifold import TSNE\n",
        "\n",
        "subsampling_step = 500\n",
        "\n",
        "#################\n",
        "# Your solution #\n",
        "#################"
      ]
    },
    {
      "cell_type": "code",
      "source": [],
      "metadata": {
        "id": "6VkX1MxeUWGZ"
      },
      "id": "6VkX1MxeUWGZ",
      "execution_count": null,
      "outputs": []
    }
  ],
  "metadata": {
    "kernelspec": {
      "display_name": "Python 3",
      "language": "python",
      "name": "python3"
    },
    "language_info": {
      "codemirror_mode": {
        "name": "ipython",
        "version": 3
      },
      "file_extension": ".py",
      "mimetype": "text/x-python",
      "name": "python",
      "nbconvert_exporter": "python",
      "pygments_lexer": "ipython3",
      "version": "3.7.9"
    },
    "papermill": {
      "default_parameters": {},
      "duration": 206.852173,
      "end_time": "2021-06-25T13:40:14.095509",
      "environment_variables": {},
      "exception": null,
      "input_path": "__notebook__.ipynb",
      "output_path": "__notebook__.ipynb",
      "parameters": {},
      "start_time": "2021-06-25T13:36:47.243336",
      "version": "2.3.2"
    },
    "colab": {
      "provenance": [],
      "toc_visible": true,
      "collapsed_sections": []
    }
  },
  "nbformat": 4,
  "nbformat_minor": 5
}