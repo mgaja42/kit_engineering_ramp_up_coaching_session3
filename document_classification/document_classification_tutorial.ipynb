{
 "cells": [
  {
   "cell_type": "markdown",
   "metadata": {},
   "source": [
    "<font size=\"4\">In this demonstration, we will do image classification using what was covered so far in the courses.</font>\n",
    "\n",
    "<font size=\"4\">We will use a simple Logistic Regression model to determine whether a given document image is an invoice or not.</font>"
   ]
  },
  {
   "cell_type": "markdown",
   "metadata": {},
   "source": [
    "# **Libraries**"
   ]
  },
  {
   "cell_type": "code",
   "execution_count": null,
   "metadata": {
    "_cell_guid": "b1076dfc-b9ad-4769-8c92-a6c4dae69d19",
    "_uuid": "8f2839f25d086af736a60e9eeb907d3b93b6e0e5",
    "execution": {
     "iopub.execute_input": "2021-06-25T12:34:02.173845Z",
     "iopub.status.busy": "2021-06-25T12:34:02.173536Z",
     "iopub.status.idle": "2021-06-25T12:34:02.179868Z",
     "shell.execute_reply": "2021-06-25T12:34:02.179137Z",
     "shell.execute_reply.started": "2021-06-25T12:34:02.173822Z"
    }
   },
   "outputs": [],
   "source": [
    "from collections import defaultdict\n",
    "import os\n",
    "from pathlib import Path\n",
    "import random\n",
    "from typing import Dict, List\n",
    "\n",
    "import cv2\n",
    "import matplotlib.pyplot as plt\n",
    "import numpy as np\n",
    "from PIL import Image\n",
    "from sklearn.linear_model import LogisticRegression\n",
    "from sklearn.metrics import (\n",
    "    accuracy_score, classification_report, confusion_matrix, \n",
    "    ConfusionMatrixDisplay, roc_curve, RocCurveDisplay, \n",
    "    precision_recall_curve, PrecisionRecallDisplay\n",
    ")\n",
    "from sklearn.model_selection import train_test_split\n",
    "from sklearn.pipeline import Pipeline\n",
    "from sklearn.preprocessing import StandardScaler\n",
    "from tqdm.notebook import tqdm "
   ]
  },
  {
   "cell_type": "code",
   "execution_count": null,
   "metadata": {
    "execution": {
     "iopub.execute_input": "2021-06-25T12:34:02.192358Z",
     "iopub.status.busy": "2021-06-25T12:34:02.191999Z",
     "iopub.status.idle": "2021-06-25T12:34:02.198804Z",
     "shell.execute_reply": "2021-06-25T12:34:02.197675Z",
     "shell.execute_reply.started": "2021-06-25T12:34:02.192329Z"
    }
   },
   "outputs": [],
   "source": [
    "plt.rc(\"font\", size=20) #controls default text size\n",
    "plt.rc(\"axes\", titlesize=20) #fontsize of the title\n",
    "plt.rc(\"axes\", labelsize=20) #fontsize of the x and y labels\n",
    "plt.rc(\"xtick\", labelsize=20) #fontsize of the x tick labels\n",
    "plt.rc(\"ytick\", labelsize=20) #fontsize of the y tick labels\n",
    "plt.rc(\"legend\", fontsize=20) #fontsize of the legend"
   ]
  },
  {
   "cell_type": "markdown",
   "metadata": {},
   "source": [
    "# **Constants**"
   ]
  },
  {
   "cell_type": "code",
   "execution_count": null,
   "metadata": {
    "execution": {
     "iopub.execute_input": "2021-06-25T12:34:02.210978Z",
     "iopub.status.busy": "2021-06-25T12:34:02.210657Z",
     "iopub.status.idle": "2021-06-25T12:34:02.216082Z",
     "shell.execute_reply": "2021-06-25T12:34:02.214922Z",
     "shell.execute_reply.started": "2021-06-25T12:34:02.210954Z"
    }
   },
   "outputs": [],
   "source": [
    "data_dir = Path(\"docs-sm\")"
   ]
  },
  {
   "cell_type": "code",
   "execution_count": null,
   "metadata": {
    "execution": {
     "iopub.execute_input": "2021-06-25T12:34:02.226017Z",
     "iopub.status.busy": "2021-06-25T12:34:02.225677Z",
     "iopub.status.idle": "2021-06-25T12:34:02.23129Z",
     "shell.execute_reply": "2021-06-25T12:34:02.22977Z",
     "shell.execute_reply.started": "2021-06-25T12:34:02.225992Z"
    }
   },
   "outputs": [],
   "source": [
    "image_size = 128\n",
    "test_size = 0.2\n",
    "random_seed = 16"
   ]
  },
  {
   "cell_type": "code",
   "execution_count": null,
   "metadata": {
    "execution": {
     "iopub.execute_input": "2021-06-25T12:34:02.242506Z",
     "iopub.status.busy": "2021-06-25T12:34:02.242169Z",
     "iopub.status.idle": "2021-06-25T12:34:02.247304Z",
     "shell.execute_reply": "2021-06-25T12:34:02.245996Z",
     "shell.execute_reply.started": "2021-06-25T12:34:02.242477Z"
    }
   },
   "outputs": [],
   "source": [
    "random.seed(random_seed)\n",
    "np.random.seed(random_seed)"
   ]
  },
  {
   "cell_type": "markdown",
   "metadata": {},
   "source": [
    "# **Data**"
   ]
  },
  {
   "cell_type": "markdown",
   "metadata": {},
   "source": [
    "<font size=\"4\">For this demonstration we will only use part of the data.</font>\n",
    "\n",
    "<font size=\"4\">We will randomly select 50 samples from the **invoice** category and 10 samples from each other category (150)</font>"
   ]
  },
  {
   "cell_type": "code",
   "execution_count": null,
   "metadata": {
    "execution": {
     "iopub.execute_input": "2021-06-25T12:34:02.256818Z",
     "iopub.status.busy": "2021-06-25T12:34:02.25642Z",
     "iopub.status.idle": "2021-06-25T12:34:02.261759Z",
     "shell.execute_reply": "2021-06-25T12:34:02.260724Z",
     "shell.execute_reply.started": "2021-06-25T12:34:02.256792Z"
    }
   },
   "outputs": [],
   "source": [
    "categories = [\"invoice\", \"not_invoice\"]"
   ]
  },
  {
   "cell_type": "code",
   "execution_count": null,
   "metadata": {
    "execution": {
     "iopub.execute_input": "2021-06-25T12:34:02.278239Z",
     "iopub.status.busy": "2021-06-25T12:34:02.277915Z",
     "iopub.status.idle": "2021-06-25T12:34:02.351383Z",
     "shell.execute_reply": "2021-06-25T12:34:02.350253Z",
     "shell.execute_reply.started": "2021-06-25T12:34:02.278215Z"
    }
   },
   "outputs": [],
   "source": [
    "image_paths = dict(invoice=[], not_invoice=[])\n",
    "for category_path in tqdm(list(data_dir.glob(\"*\"))):\n",
    "    category_name = category_path.name\n",
    "    if category_name == \"invoice\":\n",
    "        image_paths[categories[0]] = random.sample(list(category_path.glob(\"*\")), 50)\n",
    "    else:\n",
    "        image_paths[categories[1]].extend(random.sample(list(category_path.glob(\"*\")), 10))"
   ]
  },
  {
   "cell_type": "code",
   "execution_count": null,
   "metadata": {
    "execution": {
     "iopub.execute_input": "2021-06-25T12:34:02.352632Z",
     "iopub.status.busy": "2021-06-25T12:34:02.352421Z",
     "iopub.status.idle": "2021-06-25T12:34:02.472156Z",
     "shell.execute_reply": "2021-06-25T12:34:02.470901Z",
     "shell.execute_reply.started": "2021-06-25T12:34:02.352609Z"
    }
   },
   "outputs": [],
   "source": [
    "fig, ax = plt.subplots(figsize=(10, 10))\n",
    "ax.bar(categories, [len(image_paths[category]) for category in categories])\n",
    "ax.set_xlabel(\"Category\")\n",
    "ax.set_ylabel(\"Count\")\n",
    "plt.show()"
   ]
  },
  {
   "cell_type": "code",
   "execution_count": null,
   "metadata": {
    "execution": {
     "iopub.execute_input": "2021-06-25T12:34:02.47447Z",
     "iopub.status.busy": "2021-06-25T12:34:02.474157Z",
     "iopub.status.idle": "2021-06-25T12:34:02.519009Z",
     "shell.execute_reply": "2021-06-25T12:34:02.517801Z",
     "shell.execute_reply.started": "2021-06-25T12:34:02.474446Z"
    }
   },
   "outputs": [],
   "source": [
    "Image.open(random.choice([x for y in image_paths.values() for x in y]))"
   ]
  },
  {
   "cell_type": "code",
   "execution_count": null,
   "metadata": {
    "execution": {
     "iopub.execute_input": "2021-06-25T12:34:02.521253Z",
     "iopub.status.busy": "2021-06-25T12:34:02.52087Z",
     "iopub.status.idle": "2021-06-25T12:34:02.564832Z",
     "shell.execute_reply": "2021-06-25T12:34:02.563652Z",
     "shell.execute_reply.started": "2021-06-25T12:34:02.521217Z"
    }
   },
   "outputs": [],
   "source": [
    "Image.open(random.choice([x for y in image_paths.values() for x in y]))"
   ]
  },
  {
   "cell_type": "markdown",
   "metadata": {},
   "source": [
    "# **Data Preparation**"
   ]
  },
  {
   "cell_type": "markdown",
   "metadata": {},
   "source": []
  },
  {
   "cell_type": "markdown",
   "metadata": {},
   "source": [
    "<font size=\"4\">Before using the images we have to first normalize them and shrink them to the same size</font>\n",
    "\n",
    "<font size=\"4\">For that we will use </font>[<font size=\"4\">OpenCV</font>](https://opencv.org/) <font size=\"4\">(Open Source Computer Vision Library), an open source computer vision and machine learning software library. It was built to provide a common infrastructure for computer vision applications and to accelerate the use of machine perception in commercial products. </font>"
   ]
  },
  {
   "cell_type": "code",
   "execution_count": null,
   "metadata": {
    "execution": {
     "iopub.execute_input": "2021-06-25T12:34:02.566318Z",
     "iopub.status.busy": "2021-06-25T12:34:02.565997Z",
     "iopub.status.idle": "2021-06-25T12:34:02.574349Z",
     "shell.execute_reply": "2021-06-25T12:34:02.57291Z",
     "shell.execute_reply.started": "2021-06-25T12:34:02.566291Z"
    }
   },
   "outputs": [],
   "source": [
    "def prepare_images(image_paths: Dict[str, List[Path]]) -> Dict[str, List[np.ndarray]]:\n",
    "    image_data = dict()\n",
    "    for category, image_path_list in tqdm(image_paths.items()):\n",
    "        image_array_list = []\n",
    "        for image_path in image_path_list:\n",
    "            image = cv2.imread(os.fspath(image_path), cv2.IMREAD_GRAYSCALE)\n",
    "            image = cv2.normalize(image, None, alpha=0, beta=1, norm_type=cv2.NORM_MINMAX, dtype=cv2.CV_32F)\n",
    "            image = cv2.resize(image, (image_size, image_size)).flatten()\n",
    "            image_array = np.asarray(image)\n",
    "            image_array_list.append(image_array)\n",
    "        image_data[category] = image_array_list\n",
    "    return image_data"
   ]
  },
  {
   "cell_type": "code",
   "execution_count": null,
   "metadata": {
    "execution": {
     "iopub.execute_input": "2021-06-25T12:34:02.576317Z",
     "iopub.status.busy": "2021-06-25T12:34:02.575792Z",
     "iopub.status.idle": "2021-06-25T12:34:03.579583Z",
     "shell.execute_reply": "2021-06-25T12:34:03.578552Z",
     "shell.execute_reply.started": "2021-06-25T12:34:02.576285Z"
    }
   },
   "outputs": [],
   "source": [
    "image_data = prepare_images(image_paths)"
   ]
  },
  {
   "cell_type": "code",
   "execution_count": null,
   "metadata": {
    "execution": {
     "iopub.execute_input": "2021-06-25T12:34:03.582165Z",
     "iopub.status.busy": "2021-06-25T12:34:03.581908Z",
     "iopub.status.idle": "2021-06-25T12:34:04.047931Z",
     "shell.execute_reply": "2021-06-25T12:34:04.047231Z",
     "shell.execute_reply.started": "2021-06-25T12:34:03.582138Z"
    }
   },
   "outputs": [],
   "source": [
    "fig = plt.figure(figsize=(15, 15))\n",
    "ax1 = fig.add_subplot(2, 2, 1)\n",
    "ax2 = fig.add_subplot(2, 2, 2)\n",
    "ax3 = fig.add_subplot(2, 2, 3)\n",
    "ax4 = fig.add_subplot(2, 2, 4)\n",
    "\n",
    "category = random.choice(list(image_data.keys()))\n",
    "ax1.imshow(random.choice(image_data[category]).reshape(image_size, image_size), cmap=\"gray\");\n",
    "ax1.set_title(category)\n",
    "ax1.get_xaxis().set_visible(False)\n",
    "ax1.get_yaxis().set_visible(False)\n",
    "\n",
    "category = random.choice(list(image_data.keys()))\n",
    "ax2.imshow(random.choice(image_data[category]).reshape(image_size, image_size), cmap=\"gray\");\n",
    "ax2.set_title(category)\n",
    "ax2.get_xaxis().set_visible(False)\n",
    "ax2.get_yaxis().set_visible(False)\n",
    "\n",
    "category = random.choice(list(image_data.keys()))\n",
    "ax3.imshow(random.choice(image_data[category]).reshape(image_size, image_size), cmap=\"gray\");\n",
    "ax3.set_title(category)\n",
    "ax3.get_xaxis().set_visible(False)\n",
    "ax3.get_yaxis().set_visible(False)\n",
    "\n",
    "category = random.choice(list(image_data.keys()))\n",
    "ax4.imshow(random.choice(image_data[category]).reshape(image_size, image_size), cmap=\"gray\");\n",
    "ax4.set_title(category)\n",
    "ax4.get_xaxis().set_visible(False)\n",
    "ax4.get_yaxis().set_visible(False)\n",
    "\n",
    "plt.show()"
   ]
  },
  {
   "cell_type": "markdown",
   "metadata": {},
   "source": [
    "<font size=\"4\">As we can see, not much information remains after shrinking and removing the color information from the images.</font>\n",
    "\n",
    "<font size=\"4\">**Question:** Is it still possible to distinguish between the two kinds of document images? Would a trained model be able to do it?</font>"
   ]
  },
  {
   "cell_type": "markdown",
   "metadata": {},
   "source": [
    "# **Train-Test Split**"
   ]
  },
  {
   "cell_type": "markdown",
   "metadata": {},
   "source": [
    "<font size=\"4\">Now that we have finished with data preparation we can split the dataset and proceed with pre-processing and then training</font>\n",
    "\n",
    "### Tasks:\n",
    "* Compile the feature dataset (X) using the prepared images. You might find the numpy \"vstack\" method useful.\n",
    "* Compile the labels (y)\n",
    "* Split the data to training and test sets"
   ]
  },
  {
   "cell_type": "code",
   "execution_count": null,
   "metadata": {
    "execution": {
     "iopub.execute_input": "2021-06-25T12:34:04.051054Z",
     "iopub.status.busy": "2021-06-25T12:34:04.050582Z",
     "iopub.status.idle": "2021-06-25T12:34:04.058661Z",
     "shell.execute_reply": "2021-06-25T12:34:04.057705Z",
     "shell.execute_reply.started": "2021-06-25T12:34:04.051015Z"
    }
   },
   "outputs": [],
   "source": [
    "# Your solution here"
   ]
  },
  {
   "cell_type": "markdown",
   "metadata": {},
   "source": [
    "# **Pre-Processing**"
   ]
  },
  {
   "cell_type": "markdown",
   "metadata": {},
   "source": [
    "<font size=\"4\">We standardize the data in order to guarantee the conversion of the algorithm used to train the Logistic Regression model.\n",
    "\n",
    "### Task\n",
    "* Standarize the data</font>"
   ]
  },
  {
   "cell_type": "code",
   "execution_count": null,
   "metadata": {},
   "outputs": [],
   "source": [
    "# Your solution here"
   ]
  },
  {
   "cell_type": "markdown",
   "metadata": {},
   "source": [
    "# **Training**\n",
    "\n",
    "### Task\n",
    "* Train a logistic regression model\n",
    "* Output the Accuracy score on the training data\n",
    "* Output the Precision, Recall and F1 Score.\n",
    "* Display the confusion matrix\n",
    "* Plot the roc-auc curve\n",
    "* Plot the precision-recall curve"
   ]
  },
  {
   "cell_type": "markdown",
   "metadata": {},
   "source": [
    "## Reminder\n",
    "\n",
    "* <font size=\"4\">$Precision = \\frac{True\\_Positives}{True\\_Positives + False\\_Positives}$</font>\n",
    "\n",
    "<font size=\"4\">Precision attempts to answer the following question: What proportion of positive identifications was actually correct?</font>\n",
    "\n",
    "\n",
    "\n",
    "* <font size=\"4\">$Recall =\\frac{True\\_Positives}{True\\_Positives + False\\_Negatives}$</font>\n",
    "\n",
    "<font size=\"4\">Recall attempts to answer the following question: What proportion of actual positives was identified correctly?</font>\n",
    "\n",
    "\n",
    "\n",
    "* <font size=\"4\">$F1-Score = \\frac{2 * Precision * Recall}{Precision + Recall}$</font>"
   ]
  },
  {
   "cell_type": "code",
   "execution_count": null,
   "metadata": {},
   "outputs": [],
   "source": [
    "# Your solution here"
   ]
  },
  {
   "cell_type": "markdown",
   "metadata": {},
   "source": [
    "# **Evaluation**"
   ]
  },
  {
   "cell_type": "markdown",
   "metadata": {},
   "source": [
    "<font size=\"4\">We now evaluate the trained classifier on the test data.\n",
    "\n",
    "### Task\n",
    "Repeat the previous steps for the test data.</font>"
   ]
  },
  {
   "cell_type": "code",
   "execution_count": null,
   "metadata": {},
   "outputs": [],
   "source": [
    "# Your solution here"
   ]
  },
  {
   "cell_type": "markdown",
   "metadata": {},
   "source": [
    "# **Advanced:** Fixing The Issues"
   ]
  },
  {
   "cell_type": "markdown",
   "metadata": {},
   "source": [
    "***Task***\n",
    "Can you suggest improvements to the previous system?\n",
    "\n",
    "<font size=\"4\">There are different approaches we can take to fix the issues with our data:</font>\n",
    "\n",
    "* <font size=\"4\">Collect more data</font>\n",
    "* <font size=\"4\">Select a different metric (Accuracy Paradox)</font>\n",
    "* <font size=\"4\">Take imbalance into account when doing a Train-Test Split(Stratified Splitting)</font>\n",
    "* <font size=\"4\">Oversample the minority class and/or Undersample the majority class</font>\n",
    "* <font size=\"4\">Generate synthetic data for the minority class</font>"
   ]
  },
  {
   "cell_type": "code",
   "execution_count": null,
   "metadata": {},
   "outputs": [],
   "source": [
    "# Your solution here"
   ]
  },
  {
   "cell_type": "markdown",
   "metadata": {},
   "source": [
    "## **Collect more data**\n",
    "### Task\n",
    "* Use balanced a balanced dataset and repeat the training and evualuation steps to compare\n",
    "with the previous model"
   ]
  },
  {
   "cell_type": "markdown",
   "metadata": {},
   "source": [
    "## **Oversample the minority class**\n",
    "### Task\n",
    "We are fortunate to have the possibility to balance the data, but that is not always the case \n",
    "in reality. In the following task, you will be balancing the dataset by oversampling the minority\n",
    "class. You can look up the following import and how it might be helpful for you.\n",
    "* Repeat the training and evaluation steps and compare the results"
   ]
  },
  {
   "cell_type": "code",
   "execution_count": null,
   "metadata": {},
   "outputs": [],
   "source": [
    "# Your solution here"
   ]
  },
  {
   "cell_type": "markdown",
   "metadata": {},
   "source": [
    "# Useful Resources\n",
    "\n",
    "* [<font size=\"4\">Precision and Recall: A Tug of War</font>](https://developers.google.com/machine-learning/crash-course/classification/precision-and-recall)\n",
    "* [<font size=\"4\">The Accuracy Paradox</font>](https://en.wikipedia.org/wiki/Accuracy_paradox)\n",
    "* [<font size=\"4\">Tactics to Combat Imbalanced Classes in Your Machine Learning Dataset\n",
    "</font>](https://machinelearningmastery.com/tactics-to-combat-imbalanced-classes-in-your-machine-learning-dataset/)\n",
    "* [<font size=\"4\">Imbalanced-learn</font>](https://imbalanced-learn.org/stable/)"
   ]
  }
 ],
 "metadata": {
  "kernelspec": {
   "display_name": "Python 3",
   "language": "python",
   "name": "python3"
  },
  "language_info": {
   "codemirror_mode": {
    "name": "ipython",
    "version": 3
   },
   "file_extension": ".py",
   "mimetype": "text/x-python",
   "name": "python",
   "nbconvert_exporter": "python",
   "pygments_lexer": "ipython3",
   "version": "3.8.2"
  }
 },
 "nbformat": 4,
 "nbformat_minor": 4
}
